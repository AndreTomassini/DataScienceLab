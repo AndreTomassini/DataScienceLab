{
 "cells": [
  {
   "cell_type": "markdown",
   "id": "2462905b-a9b2-41e0-8edc-95953a9502f5",
   "metadata": {},
   "source": [
    "# Data Science Tools and Ecosystem"
   ]
  },
  {
   "cell_type": "markdown",
   "id": "a19cf009-adda-4052-bbdc-a2892a4a46d7",
   "metadata": {},
   "source": [
    "In this notebook, Data Science Tools and Ecosystem are summarized."
   ]
  },
  {
   "cell_type": "markdown",
   "id": "9be850ec-b427-4844-befc-288fc8eadbd4",
   "metadata": {},
   "source": [
    "**Objectives:**\n",
    "- List popular languages for Data Science\n",
    "- List commonly used libraries in Data Science\n",
    "- Create a table with Data Science tools\n",
    "- Perform arithmetic operations using Python\n",
    "- Share a Jupyter Notebook through GitHub"
   ]
  },
  {
   "cell_type": "markdown",
   "id": "d98723d2-7584-40c3-a008-f37ab7bf5e98",
   "metadata": {},
   "source": [
    "Some of the popular languages that Data Scientists use are:\n",
    "1. Python\n",
    "2. R\n",
    "3. SQL"
   ]
  },
  {
   "cell_type": "markdown",
   "id": "9a424705-2c3f-4a33-9d6a-faeb0e3a0fbe",
   "metadata": {},
   "source": [
    "Some of the commonly used libraries used by Data Scientists include:\n",
    "1. Pandas\n",
    "2. NumPy\n",
    "3. Matplotlib\n",
    "4. Scikit-learn\n",
    "5. TensorFlow\n"
   ]
  },
  {
   "cell_type": "markdown",
   "id": "f9688704-c243-4f4b-bbdb-7760f79d7dc9",
   "metadata": {},
   "source": [
    "|Data Science Tools |\n",
    "|------------------ |\n",
    "|Jupyter Notebook   |\n",
    "| RStudio           |\n",
    "| Apache Zeppelin   |\n"
   ]
  },
  {
   "cell_type": "markdown",
   "id": "2f2a11d4-41ef-467a-9a3d-5fcc2cd187d4",
   "metadata": {},
   "source": [
    "### Below are a few examples of evaluating arithmetic expressions in Python"
   ]
  },
  {
   "cell_type": "code",
   "execution_count": 19,
   "id": "1f9c8890-fb36-4ae4-bc72-5f0346e19af2",
   "metadata": {},
   "outputs": [
    {
     "data": {
      "text/plain": [
       "17"
      ]
     },
     "execution_count": 19,
     "metadata": {},
     "output_type": "execute_result"
    }
   ],
   "source": [
    "# This a simple arithmetic expression to mutiply then add integers\n",
    "(3*4)+5"
   ]
  },
  {
   "cell_type": "code",
   "execution_count": 43,
   "id": "fcb1c17d-b00c-412c-be41-7e2266296755",
   "metadata": {},
   "outputs": [
    {
     "data": {
      "text/plain": [
       "'3.3333333333333335 hours'"
      ]
     },
     "execution_count": 43,
     "metadata": {},
     "output_type": "execute_result"
    }
   ],
   "source": [
    "# This will convert 200 minutes to hours by diving by 60\n",
    "result = 200 / 60\n",
    "f\"{result} hours\""
   ]
  },
  {
   "cell_type": "markdown",
   "id": "3210049d-cd53-4c1f-bf69-f611ff2e698c",
   "metadata": {},
   "source": [
    "## Author\n",
    "André Tomassini"
   ]
  }
 ],
 "metadata": {
  "kernelspec": {
   "display_name": "Python 3 (ipykernel)",
   "language": "python",
   "name": "python3"
  },
  "language_info": {
   "codemirror_mode": {
    "name": "ipython",
    "version": 3
   },
   "file_extension": ".py",
   "mimetype": "text/x-python",
   "name": "python",
   "nbconvert_exporter": "python",
   "pygments_lexer": "ipython3",
   "version": "3.12.7"
  }
 },
 "nbformat": 4,
 "nbformat_minor": 5
}
